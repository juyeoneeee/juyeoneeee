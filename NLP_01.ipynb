{
  "nbformat": 4,
  "nbformat_minor": 0,
  "metadata": {
    "colab": {
      "provenance": [],
      "authorship_tag": "ABX9TyNLu8CBvSOWDtIaAb+J5nnj",
      "include_colab_link": true
    },
    "kernelspec": {
      "name": "python3",
      "display_name": "Python 3"
    },
    "language_info": {
      "name": "python"
    }
  },
  "cells": [
    {
      "cell_type": "markdown",
      "metadata": {
        "id": "view-in-github",
        "colab_type": "text"
      },
      "source": [
        "<a href=\"https://colab.research.google.com/github/juyeoneeee/juyeoneeee/blob/main/NLP_01.ipynb\" target=\"_parent\"><img src=\"https://colab.research.google.com/assets/colab-badge.svg\" alt=\"Open In Colab\"/></a>"
      ]
    },
    {
      "cell_type": "code",
      "execution_count": null,
      "metadata": {
        "id": "sDrUYKJdGxMn",
        "colab": {
          "base_uri": "https://localhost:8080/"
        },
        "outputId": "73d4849f-0814-497e-a119-5be9daf38635"
      },
      "outputs": [
        {
          "output_type": "stream",
          "name": "stdout",
          "text": [
            "Mounted at /content/drive\n"
          ]
        }
      ],
      "source": [
        "from google.colab import drive\n",
        "drive.mount('/content/drive')"
      ]
    },
    {
      "cell_type": "code",
      "source": [
        "cd /content/drive/MyDrive/NLPforSLP/"
      ],
      "metadata": {
        "colab": {
          "base_uri": "https://localhost:8080/"
        },
        "id": "6sMgzY_qLOwC",
        "outputId": "247a31d9-9922-4f84-f6f3-86a27616f58c"
      },
      "execution_count": null,
      "outputs": [
        {
          "output_type": "stream",
          "name": "stdout",
          "text": [
            "/content/drive/MyDrive/NLPforSLP\n"
          ]
        }
      ]
    },
    {
      "cell_type": "code",
      "source": [
        "!ls \"/content/drive/MyDrive/NLPforSLP/\"\n"
      ],
      "metadata": {
        "colab": {
          "base_uri": "https://localhost:8080/"
        },
        "id": "9ld2B0bqLSlh",
        "outputId": "3bd4b3a9-a762-472c-c7b7-9054be86e4c5"
      },
      "execution_count": null,
      "outputs": [
        {
          "output_type": "stream",
          "name": "stdout",
          "text": [
            "'Colab Notebooks'   NLP_01.ipynb\n"
          ]
        }
      ]
    },
    {
      "cell_type": "code",
      "source": [
        "!git clone https://github.com/pahkey/jump2python.git  # GitHub 저장소 링크에서 git 복사\n"
      ],
      "metadata": {
        "colab": {
          "base_uri": "https://localhost:8080/"
        },
        "id": "V4VI9qOyPQsD",
        "outputId": "b070f739-2784-4770-f637-0e1e35087c8f"
      },
      "execution_count": null,
      "outputs": [
        {
          "output_type": "stream",
          "name": "stdout",
          "text": [
            "fatal: destination path 'jump2python' already exists and is not an empty directory.\n"
          ]
        }
      ]
    },
    {
      "cell_type": "code",
      "source": [
        "\n",
        "!ls \"/content/drive/MyDrive/NLPforSLP/jump2python/01-2/\"\n",
        "\n"
      ],
      "metadata": {
        "colab": {
          "base_uri": "https://localhost:8080/"
        },
        "id": "d-1XYfLRStea",
        "outputId": "83227ae6-48e2-423c-de79-0dc7168d7e45"
      },
      "execution_count": null,
      "outputs": [
        {
          "output_type": "stream",
          "name": "stdout",
          "text": [
            "simple.py\n"
          ]
        }
      ]
    },
    {
      "cell_type": "code",
      "source": [
        "languages = ['python', 'perl', 'c', 'java']\n",
        "\n",
        "for lang in languages:\n",
        "    if lang in ['python', 'perl']:\n",
        "        print(\"%6s need interpreter\" % lang)\n",
        "    elif lang in ['c', 'java']:\n",
        "        print(\"%6s need compiler\" % lang)\n",
        "    else:\n",
        "        print(\"should not reach here\")"
      ],
      "metadata": {
        "colab": {
          "base_uri": "https://localhost:8080/"
        },
        "id": "ds9eyigNUWEK",
        "outputId": "fa7ec0d9-1189-4f8b-da9c-42dc163ab07b"
      },
      "execution_count": null,
      "outputs": [
        {
          "output_type": "stream",
          "name": "stdout",
          "text": [
            "python need interpreter\n",
            "  perl need interpreter\n",
            "     c need compiler\n",
            "  java need compiler\n"
          ]
        }
      ]
    },
    {
      "cell_type": "code",
      "source": [
        "# editor.py\n",
        "\n",
        "a = \"python\"\n",
        "print(a)\n",
        "print(1 + 1)  # print 문을 사용해야 결괏값을 출력할 수 있다."
      ],
      "metadata": {
        "colab": {
          "base_uri": "https://localhost:8080/"
        },
        "id": "l-4D1Y79LU75",
        "outputId": "3fd553b8-5f5f-41d1-ed45-21cade9811fb"
      },
      "execution_count": null,
      "outputs": [
        {
          "output_type": "stream",
          "name": "stdout",
          "text": [
            "python\n",
            "2\n"
          ]
        }
      ]
    },
    {
      "cell_type": "markdown",
      "source": [],
      "metadata": {
        "id": "p3hAX3RoLMsj"
      }
    },
    {
      "cell_type": "code",
      "source": [
        "# hello.py\n",
        "print(\"Hello World\")\n"
      ],
      "metadata": {
        "colab": {
          "base_uri": "https://localhost:8080/"
        },
        "id": "QbWHhTafXX3Z",
        "outputId": "9731b9cb-e1de-45f6-d45d-bbeaac68867b"
      },
      "execution_count": null,
      "outputs": [
        {
          "output_type": "stream",
          "name": "stdout",
          "text": [
            "Hello World\n"
          ]
        }
      ]
    },
    {
      "cell_type": "code",
      "source": [
        "# multistring.py\n",
        "\n",
        "print(\"=\" * 50)\n",
        "print(\"My Program\")\n",
        "print(\"=\" * 50)"
      ],
      "metadata": {
        "colab": {
          "base_uri": "https://localhost:8080/"
        },
        "id": "ptnBbEawXg34",
        "outputId": "0e8ec1f9-d29c-4a04-e2d8-b12bfac3a85c"
      },
      "execution_count": null,
      "outputs": [
        {
          "output_type": "stream",
          "name": "stdout",
          "text": [
            "==================================================\n",
            "My Program\n",
            "==================================================\n"
          ]
        }
      ]
    },
    {
      "cell_type": "code",
      "source": [
        "# indent_error.py\n",
        "money = True\n",
        "if money:\n",
        "    print(\"택시를\")\n",
        "print(\"타고\")\n",
        "    print(\"가라\")"
      ],
      "metadata": {
        "id": "CdIr8wvQYMri"
      },
      "execution_count": null,
      "outputs": []
    },
    {
      "cell_type": "code",
      "source": [
        "# coffee.py\n",
        "coffee = 3\n",
        "while True:\n",
        "    money = int(input(\"돈을 넣어 주세요: \"))\n",
        "    if money == 300:\n",
        "        print(\"커피를 줍니다.\")\n",
        "        coffee = coffee -1\n",
        "    elif money > 300:\n",
        "        print(\"거스름돈 %d를 주고 커피를 줍니다.\" % (money -300))\n",
        "        coffee = coffee -1\n",
        "    else:\n",
        "        print(\"돈을 다시 돌려주고 커피를 주지 않습니다.\")\n",
        "        print(\"남은 커피의 양은 %d개 입니다.\" % coffee)\n",
        "    if coffee == 0:\n",
        "        print(\"커피가 다 떨어졌습니다. 판매를 중지 합니다.\")\n",
        "        break\n"
      ],
      "metadata": {
        "colab": {
          "base_uri": "https://localhost:8080/"
        },
        "id": "Y3_GCBfLZLsI",
        "outputId": "9425b578-392a-4b35-e1ba-22455e1cf1a6"
      },
      "execution_count": null,
      "outputs": [
        {
          "output_type": "stream",
          "name": "stdout",
          "text": [
            "돈을 넣어 주세요: 300\n",
            "커피를 줍니다.\n",
            "돈을 넣어 주세요: -1\n",
            "돈을 다시 돌려주고 커피를 주지 않습니다.\n",
            "남은 커피의 양은 2개 입니다.\n",
            "돈을 넣어 주세요: 0\n",
            "돈을 다시 돌려주고 커피를 주지 않습니다.\n",
            "남은 커피의 양은 2개 입니다.\n",
            "돈을 넣어 주세요: 300\n",
            "커피를 줍니다.\n",
            "돈을 넣어 주세요: -1\n",
            "돈을 다시 돌려주고 커피를 주지 않습니다.\n",
            "남은 커피의 양은 1개 입니다.\n",
            "돈을 넣어 주세요: 300\n",
            "커피를 줍니다.\n",
            "커피가 다 떨어졌습니다. 판매를 중지 합니다.\n"
          ]
        }
      ]
    },
    {
      "cell_type": "code",
      "source": [
        "# marks1.py\n",
        "marks = [90, 25, 67, 45, 80]   # 학생들의 시험 점수 리스트\n",
        "\n",
        "number = 0   # 학생에게 붙여 줄 번호\n",
        "for mark in marks:   # 90, 25, 67, 45, 80을 순서대로 mark에 대입\n",
        "    number = number +1\n",
        "    if mark >= 60:\n",
        "        print(\"%d번 학생은 합격입니다.\" % number)\n",
        "    else:\n",
        "        print(\"%d번 학생은 불합격입니다.\" % number)\n"
      ],
      "metadata": {
        "colab": {
          "base_uri": "https://localhost:8080/"
        },
        "id": "9QKeio9Xa5iv",
        "outputId": "540f1132-17dd-44c1-e6ea-22294cb5e1cf"
      },
      "execution_count": null,
      "outputs": [
        {
          "output_type": "stream",
          "name": "stdout",
          "text": [
            "1번 학생은 합격입니다.\n",
            "2번 학생은 불합격입니다.\n",
            "3번 학생은 합격입니다.\n",
            "4번 학생은 불합격입니다.\n",
            "5번 학생은 합격입니다.\n"
          ]
        }
      ]
    },
    {
      "cell_type": "code",
      "source": [
        "# marks2.py\n",
        "marks = [90, 25, 67, 45, 80]\n",
        "\n",
        "number = 0\n",
        "for mark in marks:\n",
        "    number = number +1\n",
        "    if mark < 60:\n",
        "        continue\n",
        "    print(\"%d번 학생 축하합니다. 합격입니다. \" % number)"
      ],
      "metadata": {
        "colab": {
          "base_uri": "https://localhost:8080/"
        },
        "id": "EIFxy8vbbQGV",
        "outputId": "fd1dd126-6beb-405d-92e4-1ab1b20887bd"
      },
      "execution_count": null,
      "outputs": [
        {
          "output_type": "stream",
          "name": "stdout",
          "text": [
            "1번 학생 축하합니다. 합격입니다. \n",
            "3번 학생 축하합니다. 합격입니다. \n",
            "5번 학생 축하합니다. 합격입니다. \n"
          ]
        }
      ]
    },
    {
      "cell_type": "code",
      "source": [
        "# write_data.py\n",
        "f = open(\"/content/drive/MyDrive/NLPforSLP/새파일.txt\", 'w')\n",
        "for i in range(1, 101):\n",
        "    data = \"%d번째 줄입니다.\\n\" % i\n",
        "    f.write(data)\n",
        "f.close()\n"
      ],
      "metadata": {
        "id": "JRg3ViGVdA9I"
      },
      "execution_count": null,
      "outputs": []
    },
    {
      "cell_type": "code",
      "source": [
        "# readline_all.py\n",
        "f = open(\"/content/drive/MyDrive/NLPforSLP/새파일.txt\", 'r')\n",
        "while True:\n",
        "    line = f.readline()\n",
        "    if not line: break\n",
        "    print(line)\n",
        "f.close()\n"
      ],
      "metadata": {
        "colab": {
          "base_uri": "https://localhost:8080/"
        },
        "id": "JQcI1NK3eQ1v",
        "outputId": "bcf1bb69-7360-403b-a36e-8bfd721787ea"
      },
      "execution_count": null,
      "outputs": [
        {
          "output_type": "stream",
          "name": "stdout",
          "text": [
            "1번째 줄입니다.\n",
            "\n",
            "2번째 줄입니다.\n",
            "\n",
            "3번째 줄입니다.\n",
            "\n",
            "4번째 줄입니다.\n",
            "\n",
            "5번째 줄입니다.\n",
            "\n",
            "6번째 줄입니다.\n",
            "\n",
            "7번째 줄입니다.\n",
            "\n",
            "8번째 줄입니다.\n",
            "\n",
            "9번째 줄입니다.\n",
            "\n",
            "10번째 줄입니다.\n",
            "\n",
            "11번째 줄입니다.\n",
            "\n",
            "12번째 줄입니다.\n",
            "\n",
            "13번째 줄입니다.\n",
            "\n",
            "14번째 줄입니다.\n",
            "\n",
            "15번째 줄입니다.\n",
            "\n",
            "16번째 줄입니다.\n",
            "\n",
            "17번째 줄입니다.\n",
            "\n",
            "18번째 줄입니다.\n",
            "\n",
            "19번째 줄입니다.\n",
            "\n",
            "20번째 줄입니다.\n",
            "\n",
            "21번째 줄입니다.\n",
            "\n",
            "22번째 줄입니다.\n",
            "\n",
            "23번째 줄입니다.\n",
            "\n",
            "24번째 줄입니다.\n",
            "\n",
            "25번째 줄입니다.\n",
            "\n",
            "26번째 줄입니다.\n",
            "\n",
            "27번째 줄입니다.\n",
            "\n",
            "28번째 줄입니다.\n",
            "\n",
            "29번째 줄입니다.\n",
            "\n",
            "30번째 줄입니다.\n",
            "\n",
            "31번째 줄입니다.\n",
            "\n",
            "32번째 줄입니다.\n",
            "\n",
            "33번째 줄입니다.\n",
            "\n",
            "34번째 줄입니다.\n",
            "\n",
            "35번째 줄입니다.\n",
            "\n",
            "36번째 줄입니다.\n",
            "\n",
            "37번째 줄입니다.\n",
            "\n",
            "38번째 줄입니다.\n",
            "\n",
            "39번째 줄입니다.\n",
            "\n",
            "40번째 줄입니다.\n",
            "\n",
            "41번째 줄입니다.\n",
            "\n",
            "42번째 줄입니다.\n",
            "\n",
            "43번째 줄입니다.\n",
            "\n",
            "44번째 줄입니다.\n",
            "\n",
            "45번째 줄입니다.\n",
            "\n",
            "46번째 줄입니다.\n",
            "\n",
            "47번째 줄입니다.\n",
            "\n",
            "48번째 줄입니다.\n",
            "\n",
            "49번째 줄입니다.\n",
            "\n",
            "50번째 줄입니다.\n",
            "\n",
            "51번째 줄입니다.\n",
            "\n",
            "52번째 줄입니다.\n",
            "\n",
            "53번째 줄입니다.\n",
            "\n",
            "54번째 줄입니다.\n",
            "\n",
            "55번째 줄입니다.\n",
            "\n",
            "56번째 줄입니다.\n",
            "\n",
            "57번째 줄입니다.\n",
            "\n",
            "58번째 줄입니다.\n",
            "\n",
            "59번째 줄입니다.\n",
            "\n",
            "60번째 줄입니다.\n",
            "\n",
            "61번째 줄입니다.\n",
            "\n",
            "62번째 줄입니다.\n",
            "\n",
            "63번째 줄입니다.\n",
            "\n",
            "64번째 줄입니다.\n",
            "\n",
            "65번째 줄입니다.\n",
            "\n",
            "66번째 줄입니다.\n",
            "\n",
            "67번째 줄입니다.\n",
            "\n",
            "68번째 줄입니다.\n",
            "\n",
            "69번째 줄입니다.\n",
            "\n",
            "70번째 줄입니다.\n",
            "\n",
            "71번째 줄입니다.\n",
            "\n",
            "72번째 줄입니다.\n",
            "\n",
            "73번째 줄입니다.\n",
            "\n",
            "74번째 줄입니다.\n",
            "\n",
            "75번째 줄입니다.\n",
            "\n",
            "76번째 줄입니다.\n",
            "\n",
            "77번째 줄입니다.\n",
            "\n",
            "78번째 줄입니다.\n",
            "\n",
            "79번째 줄입니다.\n",
            "\n",
            "80번째 줄입니다.\n",
            "\n",
            "81번째 줄입니다.\n",
            "\n",
            "82번째 줄입니다.\n",
            "\n",
            "83번째 줄입니다.\n",
            "\n",
            "84번째 줄입니다.\n",
            "\n",
            "85번째 줄입니다.\n",
            "\n",
            "86번째 줄입니다.\n",
            "\n",
            "87번째 줄입니다.\n",
            "\n",
            "88번째 줄입니다.\n",
            "\n",
            "89번째 줄입니다.\n",
            "\n",
            "90번째 줄입니다.\n",
            "\n",
            "91번째 줄입니다.\n",
            "\n",
            "92번째 줄입니다.\n",
            "\n",
            "93번째 줄입니다.\n",
            "\n",
            "94번째 줄입니다.\n",
            "\n",
            "95번째 줄입니다.\n",
            "\n",
            "96번째 줄입니다.\n",
            "\n",
            "97번째 줄입니다.\n",
            "\n",
            "98번째 줄입니다.\n",
            "\n",
            "99번째 줄입니다.\n",
            "\n",
            "100번째 줄입니다.\n",
            "\n"
          ]
        }
      ]
    }
  ]
}